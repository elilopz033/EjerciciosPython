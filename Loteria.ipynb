{
 "cells": [
  {
   "cell_type": "code",
   "execution_count": 13,
   "id": "8cd48854-ec3d-48f3-b9f6-fa097f11c379",
   "metadata": {},
   "outputs": [
    {
     "name": "stdout",
     "output_type": "stream",
     "text": [
      "Números generados:\n",
      "71631\n",
      "98390\n",
      "39548\n",
      "39033\n",
      "97007\n",
      "15919\n",
      "63701\n",
      "50792\n",
      "34521\n",
      "85934\n"
     ]
    }
   ],
   "source": [
    "import random\n",
    "\n",
    "def generar_numeros_loteria(cantidad):\n",
    "    \"\"\"\n",
    "    Genera una cantidad especificada de números de lotería de 5 dígitos.\n",
    "    \n",
    "    Args:\n",
    "        cantidad (int): Número de combinaciones a generar.\n",
    "    \n",
    "    Returns:\n",
    "        list: Lista de números de lotería como cadenas de texto con 5 dígitos.\n",
    "    \"\"\"\n",
    "    numeros = []\n",
    "    for _ in range(cantidad):\n",
    "        numero = f\"{random.randint(0, 99999):05}\"  # Asegura que siempre tenga 5 dígitos\n",
    "        numeros.append(numero)\n",
    "    return numeros\n",
    "\n",
    "# Ejemplo: Generar 10 números de lotería\n",
    "numeros_generados = generar_numeros_loteria(10)\n",
    "print(\"Números generados:\")\n",
    "for numero in numeros_generados:\n",
    "    print(numero)"
   ]
  },
  {
   "cell_type": "code",
   "execution_count": null,
   "id": "0c72ed25-e386-4ec2-a02c-0b49c8353227",
   "metadata": {},
   "outputs": [],
   "source": []
  },
  {
   "cell_type": "code",
   "execution_count": null,
   "id": "b9091a88-d343-48a0-9b56-2c7b98edafd6",
   "metadata": {},
   "outputs": [],
   "source": []
  },
  {
   "cell_type": "code",
   "execution_count": null,
   "id": "bca395ee-2c98-4fa5-9ae2-d6df276cfac0",
   "metadata": {},
   "outputs": [],
   "source": []
  },
  {
   "cell_type": "code",
   "execution_count": null,
   "id": "5a8c92cb-77f2-455c-b635-87df01666f9b",
   "metadata": {},
   "outputs": [],
   "source": []
  },
  {
   "cell_type": "code",
   "execution_count": null,
   "id": "fd467934-52ac-4f8d-969a-cefcd9eba587",
   "metadata": {},
   "outputs": [],
   "source": []
  },
  {
   "cell_type": "code",
   "execution_count": null,
   "id": "41bf9f5f-f821-4af7-b76d-7f5011f65f48",
   "metadata": {},
   "outputs": [],
   "source": []
  },
  {
   "cell_type": "code",
   "execution_count": null,
   "id": "729a5fdd-8dc0-4991-b2ae-7e3b8467892f",
   "metadata": {},
   "outputs": [],
   "source": []
  },
  {
   "cell_type": "code",
   "execution_count": null,
   "id": "5cb27893-6ecc-42b6-8df6-2b811d721334",
   "metadata": {},
   "outputs": [],
   "source": []
  },
  {
   "cell_type": "code",
   "execution_count": null,
   "id": "0f94aeba-5963-4cec-b6b3-483d0fb96a8c",
   "metadata": {},
   "outputs": [],
   "source": []
  },
  {
   "cell_type": "code",
   "execution_count": null,
   "id": "94250427-1c0f-4bdf-8e90-9d0610965e69",
   "metadata": {},
   "outputs": [],
   "source": []
  },
  {
   "cell_type": "code",
   "execution_count": null,
   "id": "404c1dd7-e89c-489a-9280-d58313e52437",
   "metadata": {},
   "outputs": [],
   "source": []
  }
 ],
 "metadata": {
  "kernelspec": {
   "display_name": "Python 3 (ipykernel)",
   "language": "python",
   "name": "python3"
  },
  "language_info": {
   "codemirror_mode": {
    "name": "ipython",
    "version": 3
   },
   "file_extension": ".py",
   "mimetype": "text/x-python",
   "name": "python",
   "nbconvert_exporter": "python",
   "pygments_lexer": "ipython3",
   "version": "3.12.3"
  }
 },
 "nbformat": 4,
 "nbformat_minor": 5
}
